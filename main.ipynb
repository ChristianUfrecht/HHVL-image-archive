{
 "cells": [
  {
   "cell_type": "code",
   "execution_count": 1,
   "id": "be81ce3f",
   "metadata": {},
   "outputs": [],
   "source": [
    "import pandas as pd\n",
    "import os\n",
    "import shutil\n",
    "\n",
    "# Images that contain that person are copied in folder on Desktop\n",
    "Gesuchte_Person='Hans Hiller'\n",
    "path_Exceldatei =\"C:\\\\Gespeicherte Daten\\\\Bilder\\\\BilderArchiv HHVL\\\\Übersicht Inhalt.xlsx\"\n",
    "path_BilderOrdner=\"C:\\\\Gespeicherte Daten\\\\Bilder\\\\BilderArchiv HHVL\\\\Bilderarchiv HHVL\"\n",
    "\n",
    "\n",
    "\n",
    "Zielpfad = os.path.join(os.path.join(os.environ['USERPROFILE']), 'Desktop')+'\\\\'+Gesuchte_Person\n",
    "if not os.path.exists(Zielpfad ):\n",
    "    os.makedirs(Zielpfad)\n",
    "\n",
    "    \n",
    "\n",
    "\n",
    "def get_filenames(path_Exceldatei,Gesuchte_Person):\n",
    "    df = pd.read_excel(path_Exceldatei )\n",
    "    Gesuchte_Bilder=[]\n",
    "    for index, Personen in enumerate(df['Personen']):\n",
    "        if type(Personen)==str:\n",
    "            if Gesuchte_Person in Personen:\n",
    "                   Gesuchte_Bilder.append(df['Bildname'][index])\n",
    "    return Gesuchte_Bilder\n",
    "\n",
    "\n",
    "Gesuchte_Bilder=get_filenames(path_Exceldatei,Gesuchte_Person)\n",
    "\n",
    "# Get the list of all files in directory tree at given path\n",
    "listOfFiles = list()\n",
    "for (dirpath, dirnames, filenames) in os.walk(path_BilderOrdner):\n",
    "    listOfFiles += [os.path.join(dirpath, file) for file in filenames]\n",
    "    \n",
    "for datei in Gesuchte_Bilder:\n",
    "    for filename in listOfFiles:\n",
    "        if '\\\\' + datei +  '.' in filename:\n",
    "            shutil.copyfile(filename, Zielpfad+'\\\\'+datei+'.jpg')\n",
    "        \n",
    "        "
   ]
  }
 ],
 "metadata": {
  "kernelspec": {
   "display_name": "Python 3",
   "language": "python",
   "name": "python3"
  },
  "language_info": {
   "codemirror_mode": {
    "name": "ipython",
    "version": 3
   },
   "file_extension": ".py",
   "mimetype": "text/x-python",
   "name": "python",
   "nbconvert_exporter": "python",
   "pygments_lexer": "ipython3",
   "version": "3.8.8"
  }
 },
 "nbformat": 4,
 "nbformat_minor": 5
}
