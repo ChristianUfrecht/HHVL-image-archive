{
 "cells": [
  {
   "cell_type": "code",
   "execution_count": 2,
   "id": "eda6d96e",
   "metadata": {},
   "outputs": [
    {
     "ename": "NameError",
     "evalue": "name 'path_image_folder' is not defined",
     "output_type": "error",
     "traceback": [
      "\u001b[1;31m---------------------------------------------------------------------------\u001b[0m",
      "\u001b[1;31mNameError\u001b[0m                                 Traceback (most recent call last)",
      "\u001b[1;32m<ipython-input-2-f4a1b3bd27e1>\u001b[0m in \u001b[0;36m<module>\u001b[1;34m\u001b[0m\n\u001b[0;32m     12\u001b[0m \u001b[1;33m\u001b[0m\u001b[0m\n\u001b[0;32m     13\u001b[0m \u001b[1;33m\u001b[0m\u001b[0m\n\u001b[1;32m---> 14\u001b[1;33m \u001b[0mHHVL_archive\u001b[0m\u001b[1;33m.\u001b[0m\u001b[0mcopy_images_by_person_to_Desktop\u001b[0m\u001b[1;33m(\u001b[0m\u001b[0mperson_name\u001b[0m\u001b[1;33m)\u001b[0m\u001b[1;33m\u001b[0m\u001b[1;33m\u001b[0m\u001b[0m\n\u001b[0m\u001b[0;32m     15\u001b[0m \u001b[1;33m\u001b[0m\u001b[0m\n\u001b[0;32m     16\u001b[0m \u001b[1;33m\u001b[0m\u001b[0m\n",
      "\u001b[1;32m~\\Desktop\\CopyFiles-HHVL-Bildarchiv\\Image_archive.py\u001b[0m in \u001b[0;36mcopy_images_by_person_to_Desktop\u001b[1;34m(self, person_name)\u001b[0m\n\u001b[0;32m     19\u001b[0m \u001b[1;33m\u001b[0m\u001b[0m\n\u001b[0;32m     20\u001b[0m         \u001b[1;31m# get all filenames of images from path_image_folder\u001b[0m\u001b[1;33m\u001b[0m\u001b[1;33m\u001b[0m\u001b[1;33m\u001b[0m\u001b[0m\n\u001b[1;32m---> 21\u001b[1;33m         \u001b[0mfile_list\u001b[0m\u001b[1;33m=\u001b[0m\u001b[0mImage_archive\u001b[0m\u001b[1;33m.\u001b[0m\u001b[0mget_all_files\u001b[0m\u001b[1;33m(\u001b[0m\u001b[0mpath_image_folder\u001b[0m\u001b[1;33m)\u001b[0m\u001b[1;33m\u001b[0m\u001b[1;33m\u001b[0m\u001b[0m\n\u001b[0m\u001b[0;32m     22\u001b[0m \u001b[1;33m\u001b[0m\u001b[0m\n\u001b[0;32m     23\u001b[0m         \u001b[1;32mfor\u001b[0m \u001b[0mimage_name\u001b[0m \u001b[1;32min\u001b[0m \u001b[0mimage_names\u001b[0m\u001b[1;33m:\u001b[0m\u001b[1;33m\u001b[0m\u001b[1;33m\u001b[0m\u001b[0m\n",
      "\u001b[1;31mNameError\u001b[0m: name 'path_image_folder' is not defined"
     ]
    }
   ],
   "source": [
    "from Image_archive import Image_archive\n",
    "\n",
    "# Images that contain that person are copied in folder on Desktop\n",
    "person_name='Christian Ufrecht'\n",
    "path_excelfile =\"C:\\\\Gespeicherte Daten\\\\Bilder\\\\BilderArchiv HHVL\\\\Übersicht Inhalt.xlsx\"\n",
    "path_image_folder=\"C:\\\\Gespeicherte Daten\\\\Bilder\\\\BilderArchiv HHVL\\\\Bilderarchiv HHVL\"\n",
    "\n",
    "\n",
    "\n",
    "HHVL_archive=Image_archive(path_excelfile, path_image_folder)\n",
    "\n",
    "\n",
    "    \n",
    "HHVL_archive.copy_images_by_person_to_Desktop(person_name)\n",
    "        \n",
    "\n"
   ]
  }
 ],
 "metadata": {
  "kernelspec": {
   "display_name": "Python 3",
   "language": "python",
   "name": "python3"
  },
  "language_info": {
   "codemirror_mode": {
    "name": "ipython",
    "version": 3
   },
   "file_extension": ".py",
   "mimetype": "text/x-python",
   "name": "python",
   "nbconvert_exporter": "python",
   "pygments_lexer": "ipython3",
   "version": "3.8.8"
  }
 },
 "nbformat": 4,
 "nbformat_minor": 5
}
