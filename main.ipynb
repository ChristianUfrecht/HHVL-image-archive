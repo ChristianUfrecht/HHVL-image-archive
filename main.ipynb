{
 "cells": [
  {
   "cell_type": "code",
   "execution_count": 2,
   "id": "eda6d96e",
   "metadata": {},
   "outputs": [],
   "source": [
    "from Image_archive import Image_archive\n",
    "\n",
    "# Images that contain that person are copied in folder on Desktop\n",
    "person_name='Christian Ufrecht'\n",
    "path_excelfile =\"C:\\\\Gespeicherte Daten\\\\Bilder\\\\BilderArchiv HHVL\\\\Übersicht Inhalt.xlsx\"\n",
    "path_image_folder=\"C:\\\\Gespeicherte Daten\\\\Bilder\\\\BilderArchiv HHVL\\\\Bilderarchiv HHVL\"\n",
    "\n",
    "\n",
    "\n",
    "HHVL_archive=Image_archive(path_excelfile, path_image_folder)\n",
    "\n",
    "\n",
    "    \n",
    "HHVL_archive.copy_images_by_person_to_Desktop(person_name)\n",
    "        \n",
    "\n"
   ]
  }
 ],
 "metadata": {
  "kernelspec": {
   "display_name": "Python 3",
   "language": "python",
   "name": "python3"
  },
  "language_info": {
   "codemirror_mode": {
    "name": "ipython",
    "version": 3
   },
   "file_extension": ".py",
   "mimetype": "text/x-python",
   "name": "python",
   "nbconvert_exporter": "python",
   "pygments_lexer": "ipython3",
   "version": "3.8.8"
  }
 },
 "nbformat": 4,
 "nbformat_minor": 5
}
