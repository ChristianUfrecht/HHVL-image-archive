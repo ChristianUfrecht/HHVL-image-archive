{
 "cells": [
  {
   "cell_type": "code",
   "execution_count": 27,
   "id": "28f2b954",
   "metadata": {},
   "outputs": [
    {
     "name": "stdout",
     "output_type": "stream",
     "text": [
      "C:\\Users\\Christian\\Desktop\n"
     ]
    },
    {
     "ename": "NameError",
     "evalue": "name 'newpath' is not defined",
     "output_type": "error",
     "traceback": [
      "\u001b[1;31m---------------------------------------------------------------------------\u001b[0m",
      "\u001b[1;31mNameError\u001b[0m                                 Traceback (most recent call last)",
      "\u001b[1;32m<ipython-input-27-1089f4e5c573>\u001b[0m in \u001b[0;36m<module>\u001b[1;34m\u001b[0m\n\u001b[0;32m     14\u001b[0m \u001b[1;33m\u001b[0m\u001b[0m\n\u001b[0;32m     15\u001b[0m \u001b[1;33m\u001b[0m\u001b[0m\n\u001b[1;32m---> 16\u001b[1;33m \u001b[1;32mif\u001b[0m \u001b[1;32mnot\u001b[0m \u001b[0mos\u001b[0m\u001b[1;33m.\u001b[0m\u001b[0mpath\u001b[0m\u001b[1;33m.\u001b[0m\u001b[0mexists\u001b[0m\u001b[1;33m(\u001b[0m\u001b[0mnewpath\u001b[0m\u001b[1;33m)\u001b[0m\u001b[1;33m:\u001b[0m\u001b[1;33m\u001b[0m\u001b[1;33m\u001b[0m\u001b[0m\n\u001b[0m\u001b[0;32m     17\u001b[0m     \u001b[0mos\u001b[0m\u001b[1;33m.\u001b[0m\u001b[0mmakedirs\u001b[0m\u001b[1;33m(\u001b[0m\u001b[0mnewpath\u001b[0m\u001b[1;33m)\u001b[0m\u001b[1;33m\u001b[0m\u001b[1;33m\u001b[0m\u001b[0m\n\u001b[0;32m     18\u001b[0m \u001b[1;33m\u001b[0m\u001b[0m\n",
      "\u001b[1;31mNameError\u001b[0m: name 'newpath' is not defined"
     ]
    }
   ],
   "source": [
    "import pandas as pd\n",
    "import os\n",
    "import shutil\n",
    "\n",
    "\n",
    "Gesuchte_Person='Christian Ufrecht'\n",
    "path_Exceldatei =\"C:\\\\Users\\\\Christian\\\\Desktop\\\\TestArchive\\\\Übersicht Inhalt.xlsx\"\n",
    "path_BilderOrdner=\"C:\\\\Users\\\\Christian\\\\Desktop\\\\TestArchive\"\n",
    "\n",
    "\n",
    "\n",
    "Zielpfad = os.path.join(os.path.join(os.environ['USERPROFILE']), 'Desktop')+'\\\\'+Gesuchte_Person\n",
    "\n",
    "if not os.path.exists(Zielpfad ):\n",
    "    os.makedirs(Zielpfad)\n",
    "\n",
    "\n",
    "\n",
    "def get_filenames(path_Exceldatei,Gesuchte_Person):\n",
    "    df = pd.read_excel(path_Exceldatei )\n",
    "    Gesuchte_Bilder=[]\n",
    "    for index, Personen in enumerate(df['Personen']):\n",
    "        if type(Personen)==str:\n",
    "            if Gesuchte_Person in Personen:\n",
    "                   Gesuchte_Bilder.append(df['Bildname'][index])\n",
    "    return Gesuchte_Bilder\n",
    "\n",
    "\n",
    "Gesuchte_Bilder=get_filenames(path_Exceldatei,Gesuchte_Person)\n",
    "\n",
    "# Get the list of all files in directory tree at given path\n",
    "listOfFiles = list()\n",
    "for (dirpath, dirnames, filenames) in os.walk(path_BilderOrdner):\n",
    "    listOfFiles += [os.path.join(dirpath, file) for file in filenames]\n",
    "    \n",
    "for datei in Gesuchte_Bilder:\n",
    "    for filename in listOfFiles:\n",
    "        if '\\\\' + datei +  '.' in filename:\n",
    "            shutil.copyfile(filename, Zielpfad+'\\\\'+datei+'.jpg')\n",
    "        \n",
    "        "
   ]
  },
  {
   "cell_type": "code",
   "execution_count": 21,
   "id": "9df0adf2",
   "metadata": {},
   "outputs": [
    {
     "ename": "SyntaxError",
     "evalue": "EOL while scanning string literal (<ipython-input-21-1b2085f73e4d>, line 1)",
     "output_type": "error",
     "traceback": [
      "\u001b[1;36m  File \u001b[1;32m\"<ipython-input-21-1b2085f73e4d>\"\u001b[1;36m, line \u001b[1;32m1\u001b[0m\n\u001b[1;33m    Zielpfad+'\\'+datei\u001b[0m\n\u001b[1;37m                      ^\u001b[0m\n\u001b[1;31mSyntaxError\u001b[0m\u001b[1;31m:\u001b[0m EOL while scanning string literal\n"
     ]
    }
   ],
   "source": [
    "Zielpfad+'\\'+datei"
   ]
  }
 ],
 "metadata": {
  "kernelspec": {
   "display_name": "Python 3",
   "language": "python",
   "name": "python3"
  },
  "language_info": {
   "codemirror_mode": {
    "name": "ipython",
    "version": 3
   },
   "file_extension": ".py",
   "mimetype": "text/x-python",
   "name": "python",
   "nbconvert_exporter": "python",
   "pygments_lexer": "ipython3",
   "version": "3.8.8"
  }
 },
 "nbformat": 4,
 "nbformat_minor": 5
}
